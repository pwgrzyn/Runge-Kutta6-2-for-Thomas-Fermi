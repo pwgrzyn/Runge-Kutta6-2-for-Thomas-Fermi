{
 "cells": [
  {
   "cell_type": "code",
   "execution_count": 1,
   "id": "c7125dd5-a291-4dca-a854-8f4ca8bf1e15",
   "metadata": {},
   "outputs": [],
   "source": [
    "import numpy as np\n",
    "import matplotlib.pyplot as plt\n",
    "from scipy.optimize import fsolve\n",
    "from scipy import optimize\n",
    "from scipy.integrate import solve_ivp\n"
   ]
  },
  {
   "cell_type": "code",
   "execution_count": 12,
   "id": "a1916507-7117-4d1e-bb5d-0ead4d45e326",
   "metadata": {},
   "outputs": [],
   "source": [
    "A = np.array([[5/36, 2/9 - np.sqrt(15)/15, 5/36 - np.sqrt(15)/30],[5/36 + np.sqrt(15)/24, 2/9, 5/36 - np.sqrt(15)/24],[5/36 + np.sqrt(15)/30, 2/9 + np.sqrt(15)/15, 5/36]],dtype=float)\n",
    "c= np.array([1/2 - np.sqrt(15)/10, 1/2,1/2 + np.sqrt(15)/10])\n",
    "b= np.array([5/18, 4/9,5/18])\n",
    "b_tilda=np.array([-5/6,8/3,-5/6])"
   ]
  },
  {
   "cell_type": "code",
   "execution_count": 21,
   "id": "ac6f9845-7005-42a7-94d9-f5d1b129c044",
   "metadata": {},
   "outputs": [],
   "source": [
    "def Thomas_Fermi(x,z):\n",
    "    u,v=z\n",
    "    return [v,np.power(u,1.5)/np.sqrt(x)]\n",
    "def TF1(x,u,v):\n",
    "     return v\n",
    "def TF2(x,u,v):\n",
    "    return np.power(u,1.5)/np.sqrt(x)"
   ]
  },
  {
   "cell_type": "code",
   "execution_count": 22,
   "id": "6a40a5a8-daf7-49dc-b257-b11019082c2a",
   "metadata": {},
   "outputs": [],
   "source": [
    "def Find_K(K,x_k,u_k,v_k,h):\n",
    "    k1_u,k2_u,k3_u,k1_v,k2_v,k3_v=K\n",
    "    eq1=k1_u-TF1(x_k+c[0]*h,u_k+h*(A[0,0]*k1_u+A[0,1]*k2_u+A[0,2]*k3_u),v_k+h*(A[0,0]*k1_v+A[0,1]*k2_v+A[0,2]*k3_v))\n",
    "    eq2=k2_u-TF1(x_k+c[1]*h,u_k+h*(A[1,0]*k1_u+A[1,1]*k2_u+A[1,2]*k3_u),v_k+h*(A[1,0]*k1_v+A[1,1]*k2_v+A[1,2]*k3_v))\n",
    "    eq3=k3_u-TF1(x_k+c[2]*h,u_k+h*(A[2,0]*k1_u+A[2,1]*k2_u+A[2,2]*k3_u),v_k+h*(A[2,0]*k1_v+A[2,1]*k2_v+A[2,2]*k3_v))\n",
    "    eq4=k1_v-TF2(x_k+c[0]*h,u_k+h*(A[0,0]*k1_u+A[0,1]*k2_u+A[0,2]*k3_u),v_k+h*(A[0,0]*k1_v+A[0,1]*k2_v+A[0,2]*k3_v))\n",
    "    eq5=k2_v-TF2(x_k+c[1]*h,u_k+h*(A[1,0]*k1_u+A[1,1]*k2_u+A[1,2]*k3_u),v_k+h*(A[1,0]*k1_v+A[1,1]*k2_v+A[1,2]*k3_v))\n",
    "    eq6=k3_v-TF2(x_k+c[2]*h,u_k+h*(A[2,0]*k1_u+A[2,1]*k2_u+A[2,2]*k3_u),v_k+h*(A[2,0]*k1_v+A[2,1]*k2_v+A[2,2]*k3_v))\n",
    "    return [eq1,eq2,eq3,eq4,eq5,eq6]"
   ]
  },
  {
   "cell_type": "code",
   "execution_count": 23,
   "id": "c9ee7ed2-1a13-4da3-9984-fb68625d6c98",
   "metadata": {},
   "outputs": [],
   "source": [
    "def Evaluate_K(h,K,u,v,point):\n",
    "    k1u,k2u,k3u,k1v,k2v,k3v=fsolve(Find_K,K,args=(point,u,v,h))\n",
    "    K=[k1u,k2u,k3u,k1v,k2v,k3v]\n",
    "    return K"
   ]
  },
  {
   "cell_type": "code",
   "execution_count": 24,
   "id": "bb67066d-cdfa-449b-97e6-beaec6f45006",
   "metadata": {},
   "outputs": [],
   "source": [
    "def Evaluate(K,u,v,h):\n",
    "    k1u,k2u,k3u,k1v,k2v,k3v=K\n",
    "    u_next=u+h*(b[0]*k1u+b[1]*k2u+b[2]*k3u)\n",
    "    v_next=v+h*(b[0]*k1v+b[1]*k2v+b[2]*k3v) \n",
    "    u_tilda=u+h*(b_tilda[0]*k1u+b_tilda[1]*k2u+b_tilda[2]*k3u)\n",
    "    v_tilda=v+h*(b_tilda[0]*k1v+b_tilda[1]*k2v+b_tilda[2]*k3v)\n",
    "    return u_next,v_next,u_tilda,v_tilda"
   ]
  },
  {
   "cell_type": "code",
   "execution_count": 25,
   "id": "045eac45-a063-4141-8685-16881b3a9e94",
   "metadata": {},
   "outputs": [],
   "source": [
    "def Step_update(u_next,v_next,u_tilda,v_tilda,h,x_old,K,sol,dist,j,X):\n",
    "    step_error=np.sqrt(np.power(u_next-u_tilda,2)+np.power(v_next-v_tilda,2))#wyliczamy błąd między metodami\n",
    "    x_curr=x_old\n",
    "    n_iter=0\n",
    "    n_iter1=0\n",
    "    while step_error>epsilon_0 and n_iter<30:\n",
    "        h=beta*h*np.power((epsilon_0/step_error),0.2)\n",
    "        x_try=x_old+h\n",
    "        K=Evaluate_K(h,K,sol[j-1][0],sol[j-1][1],dist[j-1])#dist[j-1]\n",
    "        u_next,v_next,u_tilda,v_tilda=Evaluate(K,sol[j-1][0],sol[j-1][1],h)\n",
    "        step_error=np.sqrt(np.power(u_next-u_tilda,2)+np.power(v_next-v_tilda,2))\n",
    "        n_iter+= 1\n",
    "    if x_old+h>X:\n",
    "        h=X-x_old\n",
    "        K=Evaluate_K(h,K,sol[j-1][0],sol[j-1][1],dist[j-1])#dist[j-1]\n",
    "        u_next,v_next,u_tilda,v_tilda=Evaluate(K,sol[j-1][0],sol[j-1][1],h)\n",
    "        x_curr=X\n",
    "    else:\n",
    "        x_curr=x_old+h \n",
    "    if u_next>=0:\n",
    "        h_new=beta_1*h*np.power((epsilon_0/step_error),1/6)#zwiększamy krok\n",
    "        dist.append(x_curr)\n",
    "        sol.append([u_next, v_next])\n",
    "        return h_new\n",
    "    else:\n",
    "        while n_iter1 < 4:\n",
    "            h = h / 10\n",
    "            K = Evaluate_K(h, K, sol[j-1][0], sol[j-1][1], dist[j-1])\n",
    "            u_next, v_next, u_tilda, v_tilda = Evaluate(K, sol[j-1][0], sol[j-1][1], h)\n",
    "            if u_next >= 0:\n",
    "                break\n",
    "            n_iter1 += 1\n",
    "        else: \n",
    "            return 0\n",
    "    \n",
    "        x_curr = x_old + h\n",
    "        h_new = beta * h * np.power((epsilon_0 / step_error), 1/6)\n",
    "        dist.append(x_curr)\n",
    "        sol.append([u_next, v_next])\n",
    "        return h_new"
   ]
  },
  {
   "cell_type": "code",
   "execution_count": 26,
   "id": "5bf6dd51-6c59-4859-998d-1f98c0944a68",
   "metadata": {},
   "outputs": [],
   "source": [
    "def RK26_implicit(N,x_0,X,u_0,v_0):\n",
    "    Solution=[]\n",
    "    Dist=[]\n",
    "    distance=[x_0]\n",
    "    sol=[[u_0,v_0]]\n",
    "    h=(X-x_0)/N\n",
    "    K=np.zeros(6)\n",
    "    h_curr=h\n",
    "    j=1\n",
    "    x_curr=x_0\n",
    "    while distance[j-1]<X:\n",
    "        x_curr=distance[j-1]\n",
    "        K=Evaluate_K(h_curr,K,sol[j-1][0],sol[j-1][1],distance[j-1])\n",
    "        u_next,v_next,u_tilda,v_tilda=Evaluate(K,sol[j-1][0],sol[j-1][1],h_curr)\n",
    "        h_curr=Step_update(u_next,v_next,u_tilda,v_tilda,h_curr,x_curr,K,sol,distance,j,X)\n",
    "        if h_curr!=0:\n",
    "            j+=1\n",
    "        else: break\n",
    "    sol=np.array(sol)\n",
    "    distance=np.array(distance)\n",
    "    return sol,distance"
   ]
  },
  {
   "cell_type": "code",
   "execution_count": 27,
   "id": "05797288-3277-4b1a-8657-55b64011bb51",
   "metadata": {},
   "outputs": [],
   "source": [
    "X=15.93\n",
    "x0=np.power(10.0,-235)\n",
    "test=np.linspace(x0,X,23000)\n",
    "v_=-1.58807411\n",
    "epsilon_0=np.power(10.0,-9)\n",
    "beta=0.9\n",
    "beta_1=0.9"
   ]
  },
  {
   "cell_type": "code",
   "execution_count": 30,
   "id": "868127c7-2245-49d3-8208-c524a9baadec",
   "metadata": {},
   "outputs": [
    {
     "name": "stderr",
     "output_type": "stream",
     "text": [
      "C:\\Users\\Administrator\\AppData\\Local\\Temp\\ipykernel_11844\\4184207430.py:7: RuntimeWarning: invalid value encountered in power\n",
      "  return np.power(u,1.5)/np.sqrt(x)\n",
      "C:\\Users\\Administrator\\AppData\\Local\\Temp\\ipykernel_11844\\2202337892.py:2: RuntimeWarning: The iteration is not making good progress, as measured by the \n",
      " improvement from the last ten iterations.\n",
      "  k1u,k2u,k3u,k1v,k2v,k3v=fsolve(Find_K,K,args=(point,u,v,h))\n"
     ]
    }
   ],
   "source": [
    "sol,d=RK26_implicit(1000,x_0=0,X=20,u_0=1,v_0=v_)\n",
    "solve3=solve_ivp(Thomas_Fermi,[x0,X],[1,v_],method='Radau',rtol=1e-13,atol=1e-12)"
   ]
  },
  {
   "cell_type": "code",
   "execution_count": 31,
   "id": "0d43dac7-9a24-4752-83b4-ea8e7e9cfed2",
   "metadata": {},
   "outputs": [
    {
     "data": {
      "text/plain": [
       "<function matplotlib.pyplot.show(close=None, block=None)>"
      ]
     },
     "execution_count": 31,
     "metadata": {},
     "output_type": "execute_result"
    },
    {
     "data": {
      "image/png": "[encoded data removed]",
      "text/plain": [
       "<Figure size 640x480 with 1 Axes>"
      ]
     },
     "metadata": {},
     "output_type": "display_data"
    }
   ],
   "source": [
    "plt.plot(solve3.t,solve3.y[0],label='RADAU')\n",
    "plt.plot(d,sol[:,0],label='RKI6(5)')\n",
    "plt.legend()\n",
    "plt.show"
   ]
  },
  {
   "cell_type": "code",
   "execution_count": null,
   "id": "19ef2a31-bc05-49c6-ae8b-284bdc1ed970",
   "metadata": {},
   "outputs": [],
   "source": []
  }
 ],
 "metadata": {
  "kernelspec": {
   "display_name": "Python 3 (ipykernel)",
   "language": "python",
   "name": "python3"
  },
  "language_info": {
   "codemirror_mode": {
    "name": "ipython",
    "version": 3
   },
   "file_extension": ".py",
   "mimetype": "text/x-python",
   "name": "python",
   "nbconvert_exporter": "python",
   "pygments_lexer": "ipython3",
   "version": "3.13.2"
  }
 },
 "nbformat": 4,
 "nbformat_minor": 5
}
